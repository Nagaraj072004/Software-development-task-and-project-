{
  "nbformat": 4,
  "nbformat_minor": 0,
  "metadata": {
    "colab": {
      "provenance": [],
      "authorship_tag": "ABX9TyM7KCuKyQ2fHE90LtClTSOf",
      "include_colab_link": true
    },
    "kernelspec": {
      "name": "python3",
      "display_name": "Python 3"
    },
    "language_info": {
      "name": "python"
    }
  },
  "cells": [
    {
      "cell_type": "markdown",
      "metadata": {
        "id": "view-in-github",
        "colab_type": "text"
      },
      "source": [
        "<a href=\"https://colab.research.google.com/github/Nagaraj072004/Software-development-task-and-project-/blob/main/Task13.ipynb\" target=\"_parent\"><img src=\"https://colab.research.google.com/assets/colab-badge.svg\" alt=\"Open In Colab\"/></a>"
      ]
    },
    {
      "cell_type": "code",
      "source": [
        "class AadhaarForm:\n",
        "    def __init__(self):\n",
        "        self.name = \"\"\n",
        "        self.dob = \"\"\n",
        "        self.address = \"\"\n",
        "        self.mobile = \"\"\n",
        "        self.email = \"\"\n",
        "\n",
        "    def fill_form(self):\n",
        "        self.name = input(\"Enter your name: \")\n",
        "        self.dob = input(\"Enter your date of birth (DD/MM/YYYY): \")\n",
        "        self.address = input(\"Enter your address: \")\n",
        "        self.mobile = input(\"Enter your mobile number: \")\n",
        "        self.email = input(\"Enter your email: \")\n",
        "\n",
        "    def display_form(self):\n",
        "        print(\"\\nAadhaar Enrollment Form:\")\n",
        "        print(f\"Name: {self.name}\")\n",
        "        print(f\"Date of Birth: {self.dob}\")\n",
        "        print(f\"Address: {self.address}\")\n",
        "        print(f\"Mobile Number: {self.mobile}\")\n",
        "        print(f\"Email: {self.email}\")\n",
        "\n",
        "def main():\n",
        "    form = AadhaarForm()\n",
        "    form.fill_form()\n",
        "    form.display_form()\n",
        "\n",
        "if __name__ == \"__main__\":\n",
        "    main()"
      ],
      "metadata": {
        "colab": {
          "base_uri": "https://localhost:8080/"
        },
        "id": "JaxtzkEZJ4Is",
        "outputId": "32b51cd9-c51e-45e1-f17c-c00fea83b197"
      },
      "execution_count": 2,
      "outputs": [
        {
          "output_type": "stream",
          "name": "stdout",
          "text": [
            "Enter your name: Nagaraj D \n",
            "Enter your date of birth (DD/MM/YYYY): 07/09/2004\n",
            "Enter your address: Ariger anna nagar \n",
            "Enter your mobile number: 0000000000\n",
            "Enter your email: Example @gmail.com\n",
            "\n",
            "Aadhaar Enrollment Form:\n",
            "Name: Nagaraj D \n",
            "Date of Birth: 07/09/2004\n",
            "Address: Ariger anna nagar \n",
            "Mobile Number: 0000000000\n",
            "Email: Example @gmail.com\n"
          ]
        }
      ]
    }
  ]
}