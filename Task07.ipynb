{
  "nbformat": 4,
  "nbformat_minor": 0,
  "metadata": {
    "colab": {
      "provenance": [],
      "authorship_tag": "ABX9TyOg+p+IIllImRTfCFbW/NkP",
      "include_colab_link": true
    },
    "kernelspec": {
      "name": "python3",
      "display_name": "Python 3"
    },
    "language_info": {
      "name": "python"
    }
  },
  "cells": [
    {
      "cell_type": "markdown",
      "metadata": {
        "id": "view-in-github",
        "colab_type": "text"
      },
      "source": [
        "<a href=\"https://colab.research.google.com/github/Nagaraj072004/Software-development-task-and-project-/blob/main/Task07.ipynb\" target=\"_parent\"><img src=\"https://colab.research.google.com/assets/colab-badge.svg\" alt=\"Open In Colab\"/></a>"
      ]
    },
    {
      "cell_type": "code",
      "source": [
        "# Default constructor\n",
        "class Vehicle:\n",
        "    def __init__(self):\n",
        "        self.type = \"R15\"\n",
        "        self.color = \"black\"\n",
        "        self.wheels = 4\n",
        "\n",
        "    def display_details(self):\n",
        "        print(f\"Type: {self.type}\")\n",
        "        print(f\"Color: {self.color}\")\n",
        "        print(f\"Wheels: {self.wheels}\")\n",
        "my_vehicle = Vehicle()\n",
        "my_vehicle.display_details()"
      ],
      "metadata": {
        "colab": {
          "base_uri": "https://localhost:8080/"
        },
        "id": "KB_L2WVTNki3",
        "outputId": "2e36c24b-a42f-4cd1-fcce-9d2c086312ff"
      },
      "execution_count": 13,
      "outputs": [
        {
          "output_type": "stream",
          "name": "stdout",
          "text": [
            "Type: R15\n",
            "Color: black\n",
            "Wheels: 4\n"
          ]
        }
      ]
    }
  ]
}