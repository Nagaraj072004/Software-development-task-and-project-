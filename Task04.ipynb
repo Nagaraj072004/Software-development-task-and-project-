{
  "nbformat": 4,
  "nbformat_minor": 0,
  "metadata": {
    "colab": {
      "provenance": [],
      "authorship_tag": "ABX9TyMnX1AN7CXs0rsz7fFID2SS",
      "include_colab_link": true
    },
    "kernelspec": {
      "name": "python3",
      "display_name": "Python 3"
    },
    "language_info": {
      "name": "python"
    }
  },
  "cells": [
    {
      "cell_type": "markdown",
      "metadata": {
        "id": "view-in-github",
        "colab_type": "text"
      },
      "source": [
        "<a href=\"https://colab.research.google.com/github/Nagaraj072004/Software-development-task-and-project-/blob/main/Task04.ipynb\" target=\"_parent\"><img src=\"https://colab.research.google.com/assets/colab-badge.svg\" alt=\"Open In Colab\"/></a>"
      ]
    },
    {
      "cell_type": "code",
      "execution_count": 7,
      "metadata": {
        "colab": {
          "base_uri": "https://localhost:8080/"
        },
        "id": "Bxi0SqoVCH_V",
        "outputId": "5123883f-45b2-47e9-893d-b41dfffc4867"
      },
      "outputs": [
        {
          "output_type": "stream",
          "name": "stdout",
          "text": [
            "Enter a number: 8\n",
            "Enter a number: 4\n",
            "Enter a number: 3\n",
            "sum: 15\n",
            "sum: 1\n",
            "sum: 96\n"
          ]
        }
      ],
      "source": [
        "# function with parameters\n",
        "def greet(a,b,c):\n",
        "    print(\"sum:\",(a+b+c))\n",
        "    print(\"sum:\",(a-b-c))\n",
        "    print(\"sum:\",(a*b*c))\n",
        "a= int(input(\"Enter a number: \"))\n",
        "b= int(input(\"Enter a number: \"))\n",
        "c= int(input(\"Enter a number: \"))\n",
        "greet(a,b,c)"
      ]
    }
  ]
}