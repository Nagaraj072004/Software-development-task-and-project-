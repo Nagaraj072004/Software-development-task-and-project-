{
  "nbformat": 4,
  "nbformat_minor": 0,
  "metadata": {
    "colab": {
      "provenance": [],
      "authorship_tag": "ABX9TyP8MLKwxGRpt/UA1mKYwt8s",
      "include_colab_link": true
    },
    "kernelspec": {
      "name": "python3",
      "display_name": "Python 3"
    },
    "language_info": {
      "name": "python"
    }
  },
  "cells": [
    {
      "cell_type": "markdown",
      "metadata": {
        "id": "view-in-github",
        "colab_type": "text"
      },
      "source": [
        "<a href=\"https://colab.research.google.com/github/Nagaraj072004/Software-development-task-and-project-/blob/main/Task01.ipynb\" target=\"_parent\"><img src=\"https://colab.research.google.com/assets/colab-badge.svg\" alt=\"Open In Colab\"/></a>"
      ]
    },
    {
      "cell_type": "code",
      "source": [
        "#data type\n",
        "name = input(\"Enter your name: \")\n",
        "age = int(input(\"Enter your age: \"))\n",
        "height = float(input(\"Enter your height (in meters): \"))\n",
        "is_adult = input(\"Are you an adult? (yes/no): \")\n",
        "print(\"Name:\", name)\n",
        "print(\"Age:\", age)\n",
        "print(\"Height:\", height)\n",
        "print(\"Is Adult:\", is_adult)"
      ],
      "metadata": {
        "id": "vHSRrdgRPQl5",
        "colab": {
          "base_uri": "https://localhost:8080/"
        },
        "outputId": "5678531a-6f21-4865-ca0e-46e25d59893a"
      },
      "execution_count": 5,
      "outputs": [
        {
          "output_type": "stream",
          "name": "stdout",
          "text": [
            "Enter your name: Nagaraj D\n",
            "Enter your age: 21\n",
            "Enter your height (in meters): 160\n",
            "Are you an adult? (yes/no): Yes\n",
            "Name: Nagaraj D\n",
            "Age: 21\n",
            "Height: 160.0\n",
            "Is Adult: Yes\n"
          ]
        }
      ]
    },
    {
      "cell_type": "markdown",
      "source": [],
      "metadata": {
        "id": "eEcncfLKPLyA"
      }
    }
  ]
}