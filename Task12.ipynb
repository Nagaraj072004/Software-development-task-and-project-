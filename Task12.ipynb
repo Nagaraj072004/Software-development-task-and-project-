{
  "nbformat": 4,
  "nbformat_minor": 0,
  "metadata": {
    "colab": {
      "provenance": [],
      "authorship_tag": "ABX9TyOI/blgpeuPyG7ShasfWetE",
      "include_colab_link": true
    },
    "kernelspec": {
      "name": "python3",
      "display_name": "Python 3"
    },
    "language_info": {
      "name": "python"
    }
  },
  "cells": [
    {
      "cell_type": "markdown",
      "metadata": {
        "id": "view-in-github",
        "colab_type": "text"
      },
      "source": [
        "<a href=\"https://colab.research.google.com/github/Nagaraj072004/Software-development-task-and-project-/blob/main/Task12.ipynb\" target=\"_parent\"><img src=\"https://colab.research.google.com/assets/colab-badge.svg\" alt=\"Open In Colab\"/></a>"
      ]
    },
    {
      "cell_type": "code",
      "source": [
        "\n",
        "#Feature engineering\n",
        "import pandas as pd\n",
        "from sklearn.preprocessing import LabelEncoder\n",
        "\n",
        "# Sample dataset\n",
        "data = {\n",
        "    'City': ['New York', 'Los Angeles', 'Chicago', 'New York', 'Los Angeles', 'Chicago'],\n",
        "    'Building Count': [1000, 800, 1200, 1100, 900, 1300]\n",
        "}\n",
        "\n",
        "df = pd.DataFrame(data)\n",
        "\n",
        "# Feature engineering: Label encoding for City\n",
        "le = LabelEncoder()\n",
        "df['City Encoded'] = le.fit_transform(df['City'])\n",
        "\n",
        "print(\"Original Dataset:\")\n",
        "print(df[['City', 'Building Count']])\n",
        "\n",
        "print(\"\\nDataset with City Encoded:\")\n",
        "print(df)\n",
        "\n",
        "# Calculate average building count per city\n",
        "avg_building_count = df.groupby('City')['Building Count'].mean().reset_index()\n",
        "print(\"\\nAverage Building Count per City:\")\n",
        "print(avg_building_count)"
      ],
      "metadata": {
        "colab": {
          "base_uri": "https://localhost:8080/"
        },
        "id": "OYqJtuaGI-wv",
        "outputId": "602fa2cd-35fe-4d34-ae7c-1e8b31f82ad3"
      },
      "execution_count": 1,
      "outputs": [
        {
          "output_type": "stream",
          "name": "stdout",
          "text": [
            "Original Dataset:\n",
            "          City  Building Count\n",
            "0     New York            1000\n",
            "1  Los Angeles             800\n",
            "2      Chicago            1200\n",
            "3     New York            1100\n",
            "4  Los Angeles             900\n",
            "5      Chicago            1300\n",
            "\n",
            "Dataset with City Encoded:\n",
            "          City  Building Count  City Encoded\n",
            "0     New York            1000             2\n",
            "1  Los Angeles             800             1\n",
            "2      Chicago            1200             0\n",
            "3     New York            1100             2\n",
            "4  Los Angeles             900             1\n",
            "5      Chicago            1300             0\n",
            "\n",
            "Average Building Count per City:\n",
            "          City  Building Count\n",
            "0      Chicago          1250.0\n",
            "1  Los Angeles           850.0\n",
            "2     New York          1050.0\n"
          ]
        }
      ]
    }
  ]
}