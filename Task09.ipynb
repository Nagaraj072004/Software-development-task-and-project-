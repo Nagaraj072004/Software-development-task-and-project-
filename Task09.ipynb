{
  "nbformat": 4,
  "nbformat_minor": 0,
  "metadata": {
    "colab": {
      "provenance": [],
      "authorship_tag": "ABX9TyOg+Yerkix2UD2fyHZ7KXHJ",
      "include_colab_link": true
    },
    "kernelspec": {
      "name": "python3",
      "display_name": "Python 3"
    },
    "language_info": {
      "name": "python"
    }
  },
  "cells": [
    {
      "cell_type": "markdown",
      "metadata": {
        "id": "view-in-github",
        "colab_type": "text"
      },
      "source": [
        "<a href=\"https://colab.research.google.com/github/Nagaraj072004/Software-development-task-and-project-/blob/main/Task09.ipynb\" target=\"_parent\"><img src=\"https://colab.research.google.com/assets/colab-badge.svg\" alt=\"Open In Colab\"/></a>"
      ]
    },
    {
      "cell_type": "code",
      "source": [
        "from abc import ABC, abstractmethod\n",
        "class school(ABC):\n",
        "    @abstractmethod\n",
        "    def classroom(self):\n",
        "        pass\n",
        "class playground (school):\n",
        "    def classroom (self):\n",
        "        print(\"the school students\")\n",
        "a=playground ()\n",
        "a.classroom()"
      ],
      "metadata": {
        "colab": {
          "base_uri": "https://localhost:8080/"
        },
        "id": "cmMeTCHfLlKW",
        "outputId": "9724f2f9-d1f5-48a2-9122-afbad80a1424"
      },
      "execution_count": null,
      "outputs": [
        {
          "output_type": "stream",
          "name": "stdout",
          "text": [
            "the school students\n"
          ]
        }
      ]
    },
    {
      "cell_type": "code",
      "source": [
        "#encapusulation\n",
        "class Person:\n",
        "    def __init__(self, name, age):\n",
        "        self.__name = name\n",
        "        self.__age = age\n",
        "\n",
        "\n",
        "    def get_name(self):\n",
        "        return self.__name\n",
        "    def get_age(self):\n",
        "        return self.__age\n",
        "p= Person(\"Nagaraj\", 21)\n",
        "\n",
        "\n",
        "print(p.get_name())\n",
        "print(p.get_age())"
      ],
      "metadata": {
        "id": "sSyr0CPe8a83",
        "outputId": "7eb2ebbd-f953-479d-88b5-2bc3c96159a9",
        "colab": {
          "base_uri": "https://localhost:8080/"
        }
      },
      "execution_count": 6,
      "outputs": [
        {
          "output_type": "stream",
          "name": "stdout",
          "text": [
            "Nagaraj\n",
            "21\n"
          ]
        }
      ]
    },
    {
      "cell_type": "markdown",
      "source": [],
      "metadata": {
        "id": "prsscOW9LkGu"
      }
    }
  ]
}