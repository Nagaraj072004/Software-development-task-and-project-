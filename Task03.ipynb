{
  "nbformat": 4,
  "nbformat_minor": 0,
  "metadata": {
    "colab": {
      "provenance": [],
      "authorship_tag": "ABX9TyOwcwdkIXOiHZWpVupAxDCP",
      "include_colab_link": true
    },
    "kernelspec": {
      "name": "python3",
      "display_name": "Python 3"
    },
    "language_info": {
      "name": "python"
    }
  },
  "cells": [
    {
      "cell_type": "markdown",
      "metadata": {
        "id": "view-in-github",
        "colab_type": "text"
      },
      "source": [
        "<a href=\"https://colab.research.google.com/github/Nagaraj072004/Software-development-task-and-project-/blob/main/Task03.ipynb\" target=\"_parent\"><img src=\"https://colab.research.google.com/assets/colab-badge.svg\" alt=\"Open In Colab\"/></a>"
      ]
    },
    {
      "cell_type": "markdown",
      "source": [],
      "metadata": {
        "id": "ESM_Y4FM5aZ3"
      }
    },
    {
      "cell_type": "code",
      "source": [
        "# Arithmetic Operators\n",
        "print(\"Arithmetic Operators:\")\n",
        "num1 = int(input(\"Enter the first number: \"))\n",
        "num2 = int(input(\"Enter the second number: \"))\n",
        "print(\"Addition:\", num1 + num2)\n",
        "print(\"Subtraction:\", num1 - num2)\n",
        "\n",
        "# Assignment Operators\n",
        "print(\"\\nAssignment Operators:\")\n",
        "X=int(input(\"Enter the value\"))\n",
        "x *= 3\n",
        "print(\"x *= 3:\", x)\n",
        "x /= 27\n",
        "print(\"x ÷= 2:\", x)\n",
        "\n",
        "# Comparison Operators\n",
        "print(\"\\nComparison Operators:\")\n",
        "print(\"Not Equal:\", 5 != 3)\n",
        "print(\"Greater Than:\", 5 > 3)\n",
        "\n",
        "# Logical Operators\n",
        "print(\"\\nLogical Operators with User Input:\")\n",
        "age = int(input(\"Enter your age: \"))\n",
        "print(\"\\nLogical Operators:\")\n",
        "print(\"AND:\", True and True)\n",
        "print(\"OR:\", True or False)\n",
        "print(\"NOT:\", not True)"
      ],
      "metadata": {
        "colab": {
          "base_uri": "https://localhost:8080/"
        },
        "id": "DEEXN8S86Ln9",
        "outputId": "b36d3b5c-eb01-475b-d1b0-cf5e8c1ca9f2"
      },
      "execution_count": 21,
      "outputs": [
        {
          "output_type": "stream",
          "name": "stdout",
          "text": [
            "Arithmetic Operators:\n",
            "Enter the first number: 10\n",
            "Enter the second number: 8\n",
            "Addition: 18\n",
            "Subtraction: 2\n",
            "\n",
            "Assignment Operators:\n",
            "Enter the value20\n",
            "x *= 3: 0.002286236854138089\n",
            "x ÷= 2: 8.467543904215144e-05\n",
            "\n",
            "Comparison Operators:\n",
            "Not Equal: True\n",
            "Greater Than: True\n",
            "\n",
            "Logical Operators with User Input:\n",
            "Enter your age: 22\n",
            "\n",
            "Logical Operators:\n",
            "AND: True\n",
            "OR: True\n",
            "NOT: False\n"
          ]
        }
      ]
    }
  ]
}